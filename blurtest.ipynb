{
 "cells": [
  {
   "cell_type": "code",
   "execution_count": null,
   "metadata": {},
   "outputs": [],
   "source": [
    "# Esempio di offiscamento della regione di un video"
   ]
  },
  {
   "cell_type": "code",
   "execution_count": null,
   "metadata": {},
   "outputs": [],
   "source": [
    "import cv2\n",
    "import numpy as np\n",
    "import time\n",
    "\n",
    "# carico il video\n",
    "videofile = '/home/sam/Desktop/Video_Fergus/matrimonio/DJI_0315.MOV'\n",
    "cap = cv2.VideoCapture(videofile)\n",
    "assert cap.isOpened(), 'Cannot capture source'\n",
    "\n",
    "while cap.isOpened():\n",
    "\n",
    "    _, frame = cap.read()\n",
    "         \n",
    "    # BONUS: resize frame, non necessario     \n",
    "    frame = cv2.resize(frame, (960, 540))\n",
    "    \n",
    "    # seleziono la parte del frame che voglio oscurare \n",
    "    imgmask = frame[int(100):int(200), int(100):int(200)]\n",
    "    \n",
    "    # applico un filtro per il blur\n",
    "    imgmask = cv2.GaussianBlur(imgmask,(15,15),0)\n",
    "\n",
    "    # inserisco la parte oscurata nel video, ATTENZIONE che le dimensioni siano giuste\n",
    "    frame[100:200,100:200] = imgmask\n",
    "     \n",
    "    # mostro il risultato\n",
    "    cv2.imshow('Blurred',frame)\n",
    "\n",
    "    k = cv2.waitKey(5) & 0xFF\n",
    "    if k == 27:\n",
    "        break\n",
    "\n",
    "cv2.destroyAllWindows()\n",
    "cap.release()"
   ]
  },
  {
   "cell_type": "code",
   "execution_count": null,
   "metadata": {},
   "outputs": [],
   "source": []
  }
 ],
 "metadata": {
  "kernelspec": {
   "display_name": "Python 3",
   "language": "python",
   "name": "python3"
  },
  "language_info": {
   "codemirror_mode": {
    "name": "ipython",
    "version": 3
   },
   "file_extension": ".py",
   "mimetype": "text/x-python",
   "name": "python",
   "nbconvert_exporter": "python",
   "pygments_lexer": "ipython3",
   "version": "3.7.1"
  }
 },
 "nbformat": 4,
 "nbformat_minor": 2
}
